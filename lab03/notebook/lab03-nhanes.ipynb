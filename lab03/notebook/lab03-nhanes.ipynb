{
 "cells": [
  {
   "cell_type": "markdown",
   "id": "ecdaa3f9",
   "metadata": {},
   "source": [
    "## National Health and Nutrition Examination Survey (NHANES)\n",
    "\n",
    "https://wwwn.cdc.gov/nchs/nhanes/\n",
    "\n",
    "Este laboratório usará dados extraídos do NHANES.\n",
    "\n",
    "## NHANES datasets from 2013-2014\n",
    "Foram extraídos dados do NHANES 2013-2014.\n",
    "\n",
    "Os dados estão disponíveis em arquivos CSV no diretório /data/nhanes"
   ]
  },
  {
   "cell_type": "markdown",
   "id": "69ff3ddb",
   "metadata": {},
   "source": [
    "## Tarefa 1 - Esquema Relacional"
   ]
  },
  {
   "cell_type": "markdown",
   "id": "5537d933",
   "metadata": {},
   "source": [
    "person(\\_\\_id\\_\\_, gender, age)   \n",
    "  \n",
    "drug(\\_\\_code\\_\\_, name)  \n",
    "  \n",
    "use(\\_\\_person_id\\_\\_, \\_\\_drug_code\\_\\_, days_use)    \n",
    "drug_code: chave estrangeira para drug  \n",
    "person_id: chave estrangeira para person  "
   ]
  },
  {
   "cell_type": "markdown",
   "id": "e56dae75",
   "metadata": {},
   "source": [
    "## Tarefa 2 - Criação das Tabelas em SQL e Importação de Dados"
   ]
  },
  {
   "cell_type": "code",
   "execution_count": 1,
   "id": "4a602e8f",
   "metadata": {},
   "outputs": [],
   "source": [
    "%defaultDatasource jdbc:h2:mem:db"
   ]
  },
  {
   "cell_type": "code",
   "execution_count": 2,
   "id": "c696686e",
   "metadata": {},
   "outputs": [],
   "source": [
    "CREATE TABLE Person (\n",
    "    Id VARCHAR(5) NOT NULL,\n",
    "    Gender INTEGER,\n",
    "    Age INTEGER,\n",
    "    PRIMARY KEY(Id)\n",
    ") AS SELECT\n",
    "    id,\n",
    "    gender,\n",
    "    age\n",
    "FROM CSVRead('../data/demographic-person.csv');"
   ]
  },
  {
   "cell_type": "code",
   "execution_count": 3,
   "id": "721217ac",
   "metadata": {},
   "outputs": [
    {
     "data": {
      "application/vnd.jupyter.widget-view+json": {
       "model_id": "a862e639-be60-4987-9327-5aa03a2e7936",
       "version_major": 2,
       "version_minor": 0
      },
      "method": "display_data"
     },
     "metadata": {},
     "output_type": "display_data"
    }
   ],
   "source": [
    "SELECT * FROM Person;"
   ]
  },
  {
   "cell_type": "code",
   "execution_count": 4,
   "id": "57c02f92",
   "metadata": {},
   "outputs": [],
   "source": [
    "CREATE TABLE Drug (\n",
    "    Code VARCHAR(6) NOT NULL,\n",
    "    Name VARCHAR(70),\n",
    "    PRIMARY KEY(Code)\n",
    ") AS SELECT\n",
    "    code,\n",
    "    name\n",
    "FROM CSVRead('../data/medications-drug.csv');"
   ]
  },
  {
   "cell_type": "code",
   "execution_count": 5,
   "id": "45100207",
   "metadata": {},
   "outputs": [
    {
     "data": {
      "application/vnd.jupyter.widget-view+json": {
       "model_id": "ed62cc08-abf8-4c47-a8b0-a101f9e34498",
       "version_major": 2,
       "version_minor": 0
      },
      "method": "display_data"
     },
     "metadata": {},
     "output_type": "display_data"
    }
   ],
   "source": [
    "SELECT * FROM Drug;"
   ]
  },
  {
   "cell_type": "code",
   "execution_count": 6,
   "id": "ca041403",
   "metadata": {},
   "outputs": [],
   "source": [
    "CREATE TABLE Use (\n",
    "    Person_id  VARCHAR(5) NOT NULL,\n",
    "    Drug_code VARCHAR(6) NOT NULL,\n",
    "    Days_use INTEGER,\n",
    "    FOREIGN KEY(Person_id)\n",
    "        REFERENCES Person(Id)\n",
    "            ON DELETE NO ACTION\n",
    "            ON UPDATE NO ACTION,\n",
    "    FOREIGN KEY(Drug_code)\n",
    "        REFERENCES Drug(Code)\n",
    "            ON DELETE NO ACTION\n",
    "            ON UPDATE NO ACTION,\n",
    ") AS SELECT\n",
    "    person_id,\n",
    "    drug_code,\n",
    "    days_use\n",
    "FROM CSVRead('../data/medications-use.csv');"
   ]
  },
  {
   "cell_type": "code",
   "execution_count": 7,
   "id": "a31e4556",
   "metadata": {},
   "outputs": [
    {
     "data": {
      "application/vnd.jupyter.widget-view+json": {
       "model_id": "3fb3359d-cda3-416e-b9d0-059c72eb60c8",
       "version_major": 2,
       "version_minor": 0
      },
      "method": "display_data"
     },
     "metadata": {},
     "output_type": "display_data"
    }
   ],
   "source": [
    "SELECT * FROM Use;"
   ]
  },
  {
   "cell_type": "markdown",
   "id": "7b020c06",
   "metadata": {},
   "source": [
    "## Tarefa 3 - Consultas Simples\n",
    "\n",
    "a) Pessoas com 60 anos ou mais"
   ]
  },
  {
   "cell_type": "code",
   "execution_count": 8,
   "id": "b646943b",
   "metadata": {},
   "outputs": [
    {
     "data": {
      "application/vnd.jupyter.widget-view+json": {
       "model_id": "8bcabf49-8d0a-4578-b3fd-4d458d9491b4",
       "version_major": 2,
       "version_minor": 0
      },
      "method": "display_data"
     },
     "metadata": {},
     "output_type": "display_data"
    }
   ],
   "source": [
    "SELECT Person.Id FROM Person\n",
    "    WHERE Person.Age >= 60;"
   ]
  },
  {
   "cell_type": "markdown",
   "id": "54926223",
   "metadata": {},
   "source": [
    "b) Idade das pessoas cadastradas (sem repetições)"
   ]
  },
  {
   "cell_type": "code",
   "execution_count": 9,
   "id": "285047bc",
   "metadata": {},
   "outputs": [
    {
     "data": {
      "application/vnd.jupyter.widget-view+json": {
       "model_id": "e717145a-f22d-4bfc-b300-61a28071d10a",
       "version_major": 2,
       "version_minor": 0
      },
      "method": "display_data"
     },
     "metadata": {},
     "output_type": "display_data"
    }
   ],
   "source": [
    "SELECT DISTINCT P.Age FROM Person P;"
   ]
  },
  {
   "cell_type": "raw",
   "id": "500efb46",
   "metadata": {},
   "source": [
    "c) Código das pessoas, idade, código dos medicamentos que usaram e dias de uso"
   ]
  },
  {
   "cell_type": "code",
   "execution_count": 10,
   "id": "8787eb7f",
   "metadata": {},
   "outputs": [
    {
     "data": {
      "application/vnd.jupyter.widget-view+json": {
       "model_id": "4575713f-9b43-4421-a34f-37171cfe67a7",
       "version_major": 2,
       "version_minor": 0
      },
      "method": "display_data"
     },
     "metadata": {},
     "output_type": "display_data"
    }
   ],
   "source": [
    "SELECT U.Person_id, P.Age, U.Drug_code, U.Days_use\n",
    "    FROM Person P, Use U\n",
    "    WHERE U.Person_id = P.Id;"
   ]
  },
  {
   "cell_type": "raw",
   "id": "eb04365a",
   "metadata": {},
   "source": [
    "d) Código das Pessoas, idade, nome dos medicamentos que usaram e quantos dias de uso"
   ]
  },
  {
   "cell_type": "code",
   "execution_count": 11,
   "id": "bd4dbbc3",
   "metadata": {},
   "outputs": [
    {
     "data": {
      "application/vnd.jupyter.widget-view+json": {
       "model_id": "e2f348b6-4640-4b5d-91ea-f55f49fb4a11",
       "version_major": 2,
       "version_minor": 0
      },
      "method": "display_data"
     },
     "metadata": {},
     "output_type": "display_data"
    }
   ],
   "source": [
    "SELECT U.Person_id, P.Age, D.Name, U.Days_use\n",
    "    FROM Person P, Drug D, Use U\n",
    "    WHERE U.Person_id = P.Id AND U.Drug_code = D.Code;"
   ]
  },
  {
   "cell_type": "raw",
   "id": "e9a5dda3",
   "metadata": {},
   "source": [
    "e)Nome dos medicamentos que foram usados por pessoas (sem repetições)"
   ]
  },
  {
   "cell_type": "code",
   "execution_count": 12,
   "id": "2f09474f",
   "metadata": {},
   "outputs": [
    {
     "data": {
      "application/vnd.jupyter.widget-view+json": {
       "model_id": "d10fa56c-9e3e-4813-b0dc-16a2ba71fe7d",
       "version_major": 2,
       "version_minor": 0
      },
      "method": "display_data"
     },
     "metadata": {},
     "output_type": "display_data"
    }
   ],
   "source": [
    "SELECT DISTINCT D.Name\n",
    "    FROM Person P, Drug D, Use U\n",
    "    WHERE U.Person_Id = P.Id AND U.Drug_code = D.Code"
   ]
  },
  {
   "cell_type": "raw",
   "id": "5419f8db",
   "metadata": {},
   "source": [
    "f) Nome dos medicamentos usados por mais de 2.000 dias (sem repetições)"
   ]
  },
  {
   "cell_type": "code",
   "execution_count": 13,
   "id": "f0167c19",
   "metadata": {},
   "outputs": [
    {
     "data": {
      "application/vnd.jupyter.widget-view+json": {
       "model_id": "9cbf0ab7-0735-412d-b04b-b38555c62be6",
       "version_major": 2,
       "version_minor": 0
      },
      "method": "display_data"
     },
     "metadata": {},
     "output_type": "display_data"
    }
   ],
   "source": [
    "SELECT DISTINCT D.Name\n",
    "    FROM Drug D, Use U\n",
    "    WHERE U.Days_use > 2000 AND U.Drug_code = D.Code;"
   ]
  },
  {
   "cell_type": "code",
   "execution_count": null,
   "id": "a86f3dd5",
   "metadata": {},
   "outputs": [],
   "source": []
  }
 ],
 "metadata": {
  "kernelspec": {
   "display_name": "SQL",
   "language": "SQL",
   "name": "sql"
  },
  "language_info": {
   "codemirror_mode": "sql",
   "file_extension": ".sql",
   "mimetype": "",
   "name": "SQL",
   "nbconverter_exporter": "",
   "version": ""
  }
 },
 "nbformat": 4,
 "nbformat_minor": 5
}
