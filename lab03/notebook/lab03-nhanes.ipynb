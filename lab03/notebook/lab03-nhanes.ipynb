{
 "cells": [
  {
   "cell_type": "markdown",
   "id": "7c6e7dc2",
   "metadata": {},
   "source": [
    "## National Health and Nutrition Examination Survey (NHANES)\n",
    "\n",
    "https://wwwn.cdc.gov/nchs/nhanes/\n",
    "\n",
    "Este laboratório usará dados extraídos do NHANES.\n",
    "\n",
    "## NHANES datasets from 2013-2014\n",
    "Foram extraídos dados do NHANES 2013-2014.\n",
    "\n",
    "Os dados estão disponíveis em arquivos CSV no diretório /data/nhanes"
   ]
  },
  {
   "cell_type": "markdown",
   "id": "3dc0552a",
   "metadata": {},
   "source": [
    "## Tarefa 1 - Esquema Relacional"
   ]
  },
  {
   "cell_type": "raw",
   "id": "45ed3a55",
   "metadata": {},
   "source": [
    "person(__id__, gender, age)\n",
    "\n",
    "drug(__code__, name)\n",
    "\n",
    "use(__person_id__,__ drug_code__, days_use)\n",
    "drug_code: chave estrangeira para drug\n",
    "person_id: chave estrangeira para person"
   ]
  },
  {
   "cell_type": "markdown",
   "id": "c5196b4a",
   "metadata": {},
   "source": [
    "## Tarefa 2 - Criação das Tabelas em SQL e Importação de Dados"
   ]
  },
  {
   "cell_type": "code",
   "execution_count": 1,
   "id": "0f63c815",
   "metadata": {},
   "outputs": [],
   "source": [
    "%defaultDatasource jdbc:h2:mem:db"
   ]
  },
  {
   "cell_type": "code",
   "execution_count": 2,
   "id": "f7e48fa6",
   "metadata": {},
   "outputs": [],
   "source": [
    "CREATE TABLE Person (\n",
    "    Id VARCHAR(5) NOT NULL,\n",
    "    Gender INTEGER,\n",
    "    Age INTEGER,\n",
    "    PRIMARY KEY(Id)\n",
    ") AS SELECT\n",
    "    id,\n",
    "    gender,\n",
    "    age\n",
    "FROM CSVRead('../data/demographic-person.csv');"
   ]
  },
  {
   "cell_type": "code",
   "execution_count": 3,
   "id": "1d00ffd9",
   "metadata": {},
   "outputs": [
    {
     "data": {
      "application/vnd.jupyter.widget-view+json": {
       "model_id": "7f0db001-ccb3-49c2-96a1-349bb860b49a",
       "version_major": 2,
       "version_minor": 0
      },
      "method": "display_data"
     },
     "metadata": {},
     "output_type": "display_data"
    }
   ],
   "source": [
    "SELECT * FROM Person;"
   ]
  },
  {
   "cell_type": "code",
   "execution_count": 4,
   "id": "99b0a658",
   "metadata": {},
   "outputs": [],
   "source": [
    "CREATE TABLE Drug (\n",
    "    Code VARCHAR(6) NOT NULL,\n",
    "    Name VARCHAR(70),\n",
    "    PRIMARY KEY(Code)\n",
    ") AS SELECT\n",
    "    code,\n",
    "    name\n",
    "FROM CSVRead('../data/medications-drug.csv');"
   ]
  },
  {
   "cell_type": "code",
   "execution_count": 5,
   "id": "6ef2cb94",
   "metadata": {},
   "outputs": [
    {
     "data": {
      "application/vnd.jupyter.widget-view+json": {
       "model_id": "776499c0-3266-4c6e-96ef-a450bd7de04b",
       "version_major": 2,
       "version_minor": 0
      },
      "method": "display_data"
     },
     "metadata": {},
     "output_type": "display_data"
    }
   ],
   "source": [
    "SELECT * FROM Drug;"
   ]
  },
  {
   "cell_type": "code",
   "execution_count": 7,
   "id": "a61bff80",
   "metadata": {},
   "outputs": [],
   "source": [
    "CREATE TABLE Use (\n",
    "    Person_id  VARCHAR(5) NOT NULL,\n",
    "    Drug_code VARCHAR(6) NOT NULL,\n",
    "    Days_use INTEGER,\n",
    "    FOREIGN KEY(Person_id)\n",
    "        REFERENCES Person(Id)\n",
    "            ON DELETE NO ACTION\n",
    "            ON UPDATE NO ACTION,\n",
    "    FOREIGN KEY(Drug_code)\n",
    "        REFERENCES Drug(Code)\n",
    "            ON DELETE NO ACTION\n",
    "            ON UPDATE NO ACTION,\n",
    ") AS SELECT\n",
    "    person_id,\n",
    "    drug_code,\n",
    "    days_use\n",
    "FROM CSVRead('../data/medications-use.csv');"
   ]
  },
  {
   "cell_type": "markdown",
   "id": "661aeb2f",
   "metadata": {},
   "source": [
    "## Tarefa 3 - Consultas Simples\n",
    "\n",
    "a) Pessoas com 60 anos ou mais"
   ]
  },
  {
   "cell_type": "code",
   "execution_count": 8,
   "id": "ed0c701b",
   "metadata": {},
   "outputs": [
    {
     "data": {
      "application/vnd.jupyter.widget-view+json": {
       "model_id": "1db393eb-6947-4fe6-8b37-a20db85a60a2",
       "version_major": 2,
       "version_minor": 0
      },
      "method": "display_data"
     },
     "metadata": {},
     "output_type": "display_data"
    }
   ],
   "source": [
    "SELECT Person.Id, Person.Age FROM Person\n",
    "    WHERE Person.Age >= 60;"
   ]
  },
  {
   "cell_type": "markdown",
   "id": "2c8a470c",
   "metadata": {},
   "source": [
    "b) Idade das pessoas cadastradas (sem repetições)"
   ]
  },
  {
   "cell_type": "code",
   "execution_count": 9,
   "id": "4518a7ed",
   "metadata": {},
   "outputs": [
    {
     "data": {
      "application/vnd.jupyter.widget-view+json": {
       "model_id": "4491893d-dac0-4bfe-b851-655cd5e9ca88",
       "version_major": 2,
       "version_minor": 0
      },
      "method": "display_data"
     },
     "metadata": {},
     "output_type": "display_data"
    }
   ],
   "source": [
    "SELECT DISTINCT P.Age FROM Person P;"
   ]
  },
  {
   "cell_type": "raw",
   "id": "2bb3f226",
   "metadata": {},
   "source": [
    "c) Código das pessoas, idade, código dos medicamentos que usaram e dias de uso"
   ]
  },
  {
   "cell_type": "code",
   "execution_count": 9,
   "id": "1651eb4a",
   "metadata": {},
   "outputs": [
    {
     "data": {
      "application/vnd.jupyter.widget-view+json": {
       "model_id": "3c0f303b-1b8c-4c07-9581-8da6be9016de",
       "version_major": 2,
       "version_minor": 0
      },
      "method": "display_data"
     },
     "metadata": {},
     "output_type": "display_data"
    }
   ],
   "source": [
    "SELECT U.Person_id, P.Age, U.Drug_code, U.Days_use\n",
    "    FROM Person P, Use U\n",
    "    WHERE U.Person_id = P.Id;"
   ]
  },
  {
   "cell_type": "raw",
   "id": "939c1e15",
   "metadata": {},
   "source": [
    "d) Código das Pessoas, idade, nome dos medicamentos que usaram e quantos dias de uso"
   ]
  },
  {
   "cell_type": "code",
   "execution_count": 10,
   "id": "642e33fa",
   "metadata": {},
   "outputs": [
    {
     "data": {
      "application/vnd.jupyter.widget-view+json": {
       "model_id": "5e369d15-f09b-4695-b3c2-1cce300a0551",
       "version_major": 2,
       "version_minor": 0
      },
      "method": "display_data"
     },
     "metadata": {},
     "output_type": "display_data"
    }
   ],
   "source": [
    "SELECT U.Person_id, P.Age, D.Name, U.Days_use\n",
    "    FROM Person P, Drug D, Use U\n",
    "    WHERE U.Person_id = P.Id AND U.Drug_code = D.Code;"
   ]
  },
  {
   "cell_type": "raw",
   "id": "af053838",
   "metadata": {},
   "source": [
    "e)Nome dos medicamentos que foram usados por pessoas (sem repetições)"
   ]
  },
  {
   "cell_type": "code",
   "execution_count": 11,
   "id": "d93bd393",
   "metadata": {},
   "outputs": [
    {
     "data": {
      "application/vnd.jupyter.widget-view+json": {
       "model_id": "10ffdd37-d90b-4003-a81b-4be3fbd866f2",
       "version_major": 2,
       "version_minor": 0
      },
      "method": "display_data"
     },
     "metadata": {},
     "output_type": "display_data"
    }
   ],
   "source": [
    "SELECT DISTINCT D.Name\n",
    "    FROM Person P, Drug D, Use U\n",
    "    WHERE U.Person_Id = P.Id AND U.Drug_code = D.Code"
   ]
  },
  {
   "cell_type": "raw",
   "id": "62191b5e",
   "metadata": {},
   "source": [
    "f) Nome dos medicamentos usados por mais de 2.000 dias (sem repetições)"
   ]
  },
  {
   "cell_type": "code",
   "execution_count": 12,
   "id": "890fc060",
   "metadata": {},
   "outputs": [
    {
     "data": {
      "application/vnd.jupyter.widget-view+json": {
       "model_id": "9f0fd505-bea7-485a-beea-a17a8bdd3565",
       "version_major": 2,
       "version_minor": 0
      },
      "method": "display_data"
     },
     "metadata": {},
     "output_type": "display_data"
    }
   ],
   "source": [
    "SELECT DISTINCT D.Name\n",
    "    FROM Drug D, Use U\n",
    "    WHERE U.Days_use > 2000 AND U.Drug_code = D.Code;"
   ]
  },
  {
   "cell_type": "code",
   "execution_count": null,
   "id": "5161c5fe",
   "metadata": {},
   "outputs": [],
   "source": []
  }
 ],
 "metadata": {
  "kernelspec": {
   "display_name": "SQL",
   "language": "SQL",
   "name": "sql"
  },
  "language_info": {
   "codemirror_mode": "sql",
   "file_extension": ".sql",
   "mimetype": "",
   "name": "SQL",
   "nbconverter_exporter": "",
   "version": ""
  }
 },
 "nbformat": 4,
 "nbformat_minor": 5
}
