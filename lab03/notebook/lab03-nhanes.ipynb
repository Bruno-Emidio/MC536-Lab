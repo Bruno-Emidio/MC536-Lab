{
 "cells": [
  {
   "cell_type": "markdown",
   "id": "3cbc3b61",
   "metadata": {},
   "source": [
    "## National Health and Nutrition Examination Survey (NHANES)\n",
    "\n",
    "https://wwwn.cdc.gov/nchs/nhanes/\n",
    "\n",
    "Este laboratório usará dados extraídos do NHANES.\n",
    "\n",
    "## NHANES datasets from 2013-2014\n",
    "Foram extraídos dados do NHANES 2013-2014.\n",
    "\n",
    "Os dados estão disponíveis em arquivos CSV no diretório /data/nhanes"
   ]
  },
  {
   "cell_type": "markdown",
   "id": "43656bdf",
   "metadata": {},
   "source": [
    "## Tarefa 1 - Esquema Relacional"
   ]
  },
  {
   "cell_type": "raw",
   "id": "ed5bd12c",
   "metadata": {},
   "source": [
    "person(__id__, gender, age)\n",
    "\n",
    "drug(__code__, name)\n",
    "\n",
    "use(__person_id__,__ drug_code__, days_use)\n",
    "drug_code: chave estrangeira para drug\n",
    "person_id: chave estrangeira para person"
   ]
  },
  {
   "cell_type": "markdown",
   "id": "0d0249d9",
   "metadata": {},
   "source": [
    "## Tarefa 2 - Criação das Tabelas em SQL e Importação de Dados"
   ]
  },
  {
   "cell_type": "code",
   "execution_count": 1,
   "id": "aadd5a89",
   "metadata": {},
   "outputs": [],
   "source": [
    "%defaultDatasource jdbc:h2:mem:db"
   ]
  },
  {
   "cell_type": "code",
   "execution_count": 2,
   "id": "c821bf43",
   "metadata": {},
   "outputs": [],
   "source": [
    "CREATE TABLE Person (\n",
    "    Id VARCHAR(5) NOT NULL,\n",
    "    Gender INTEGER,\n",
    "    Age INTEGER,\n",
    "    PRIMARY KEY(Id)\n",
    ") AS SELECT\n",
    "    id,\n",
    "    gender,\n",
    "    age\n",
    "FROM CSVRead('../data/demographic-person.csv');"
   ]
  },
  {
   "cell_type": "code",
   "execution_count": 3,
   "id": "6292dda6",
   "metadata": {},
   "outputs": [
    {
     "data": {
      "application/vnd.jupyter.widget-view+json": {
       "model_id": "4804ecf0-3648-44e5-8f57-dbb3115fe52a",
       "version_major": 2,
       "version_minor": 0
      },
      "method": "display_data"
     },
     "metadata": {},
     "output_type": "display_data"
    }
   ],
   "source": [
    "SELECT * FROM Person;"
   ]
  },
  {
   "cell_type": "code",
   "execution_count": 4,
   "id": "b31eb7cb",
   "metadata": {},
   "outputs": [],
   "source": [
    "CREATE TABLE Drug (\n",
    "    Code VARCHAR(6) NOT NULL,\n",
    "    Name VARCHAR(70),\n",
    "    PRIMARY KEY(Code)\n",
    ") AS SELECT\n",
    "    code,\n",
    "    name\n",
    "FROM CSVRead('../data/medications-drug.csv');"
   ]
  },
  {
   "cell_type": "code",
   "execution_count": 5,
   "id": "63f67da4",
   "metadata": {},
   "outputs": [
    {
     "data": {
      "application/vnd.jupyter.widget-view+json": {
       "model_id": "b1ad6bec-8dcc-4de8-ae53-b210651b3950",
       "version_major": 2,
       "version_minor": 0
      },
      "method": "display_data"
     },
     "metadata": {},
     "output_type": "display_data"
    }
   ],
   "source": [
    "SELECT * FROM Drug;"
   ]
  },
  {
   "cell_type": "code",
   "execution_count": 6,
   "id": "f3442336",
   "metadata": {},
   "outputs": [],
   "source": [
    "CREATE TABLE Use (\n",
    "    Person_id  VARCHAR(5) NOT NULL,\n",
    "    Drug_code VARCHAR(6) NOT NULL,\n",
    "    Days_use INTEGER,\n",
    "    FOREIGN KEY(Person_id)\n",
    "        REFERENCES Person(Id)\n",
    "            ON DELETE NO ACTION\n",
    "            ON UPDATE NO ACTION,\n",
    "    FOREIGN KEY(Drug_code)\n",
    "        REFERENCES Drug(Code)\n",
    "            ON DELETE NO ACTION\n",
    "            ON UPDATE NO ACTION,\n",
    ") AS SELECT\n",
    "    person_id,\n",
    "    drug_code,\n",
    "    days_use\n",
    "FROM CSVRead('../data/medications-use.csv');"
   ]
  },
  {
   "cell_type": "markdown",
   "id": "f1af60c7",
   "metadata": {},
   "source": [
    "## Tarefa 3 - Consultas Simples\n",
    "\n",
    "a) Pessoas com 60 anos ou mais"
   ]
  },
  {
   "cell_type": "code",
   "execution_count": 7,
   "id": "21e17d5c",
   "metadata": {},
   "outputs": [
    {
     "data": {
      "application/vnd.jupyter.widget-view+json": {
       "model_id": "7eed0478-0811-4aee-8cbc-bd2f329f7896",
       "version_major": 2,
       "version_minor": 0
      },
      "method": "display_data"
     },
     "metadata": {},
     "output_type": "display_data"
    }
   ],
   "source": [
    "SELECT Person.Id FROM Person\n",
    "    WHERE Person.Age >= 60;"
   ]
  },
  {
   "cell_type": "markdown",
   "id": "56d1a24b",
   "metadata": {},
   "source": [
    "b) Idade das pessoas cadastradas (sem repetições)"
   ]
  },
  {
   "cell_type": "code",
   "execution_count": 8,
   "id": "8e0d1d18",
   "metadata": {},
   "outputs": [
    {
     "data": {
      "application/vnd.jupyter.widget-view+json": {
       "model_id": "a5ab7666-ee19-4285-b2b9-8b070a078322",
       "version_major": 2,
       "version_minor": 0
      },
      "method": "display_data"
     },
     "metadata": {},
     "output_type": "display_data"
    }
   ],
   "source": [
    "SELECT DISTINCT P.Age FROM Person P;"
   ]
  },
  {
   "cell_type": "raw",
   "id": "a97267c3",
   "metadata": {},
   "source": [
    "c) Código das pessoas, idade, código dos medicamentos que usaram e dias de uso"
   ]
  },
  {
   "cell_type": "code",
   "execution_count": 9,
   "id": "fd4d14ed",
   "metadata": {},
   "outputs": [
    {
     "data": {
      "application/vnd.jupyter.widget-view+json": {
       "model_id": "ee75b03f-3acd-4b7b-b7cd-23ddd6fd2418",
       "version_major": 2,
       "version_minor": 0
      },
      "method": "display_data"
     },
     "metadata": {},
     "output_type": "display_data"
    }
   ],
   "source": [
    "SELECT U.Person_id, P.Age, U.Drug_code, U.Days_use\n",
    "    FROM Person P, Use U\n",
    "    WHERE U.Person_id = P.Id;"
   ]
  },
  {
   "cell_type": "raw",
   "id": "9b31da46",
   "metadata": {},
   "source": [
    "d) Código das Pessoas, idade, nome dos medicamentos que usaram e quantos dias de uso"
   ]
  },
  {
   "cell_type": "code",
   "execution_count": 10,
   "id": "86e3c832",
   "metadata": {},
   "outputs": [
    {
     "data": {
      "application/vnd.jupyter.widget-view+json": {
       "model_id": "7e8243d2-3363-4c9d-83c8-66b738df8afb",
       "version_major": 2,
       "version_minor": 0
      },
      "method": "display_data"
     },
     "metadata": {},
     "output_type": "display_data"
    }
   ],
   "source": [
    "SELECT U.Person_id, P.Age, D.Name, U.Days_use\n",
    "    FROM Person P, Drug D, Use U\n",
    "    WHERE U.Person_id = P.Id AND U.Drug_code = D.Code;"
   ]
  },
  {
   "cell_type": "raw",
   "id": "4dd6d091",
   "metadata": {},
   "source": [
    "e)Nome dos medicamentos que foram usados por pessoas (sem repetições)"
   ]
  },
  {
   "cell_type": "code",
   "execution_count": 11,
   "id": "5304d472",
   "metadata": {},
   "outputs": [
    {
     "data": {
      "application/vnd.jupyter.widget-view+json": {
       "model_id": "18460d86-3700-49a2-b2eb-bb1780ebeb9a",
       "version_major": 2,
       "version_minor": 0
      },
      "method": "display_data"
     },
     "metadata": {},
     "output_type": "display_data"
    }
   ],
   "source": [
    "SELECT DISTINCT D.Name\n",
    "    FROM Person P, Drug D, Use U\n",
    "    WHERE U.Person_Id = P.Id AND U.Drug_code = D.Code"
   ]
  },
  {
   "cell_type": "raw",
   "id": "4d116968",
   "metadata": {},
   "source": [
    "f) Nome dos medicamentos usados por mais de 2.000 dias (sem repetições)"
   ]
  },
  {
   "cell_type": "code",
   "execution_count": 12,
   "id": "d157f16a",
   "metadata": {},
   "outputs": [
    {
     "data": {
      "application/vnd.jupyter.widget-view+json": {
       "model_id": "2d5658d6-2470-4e2d-95dc-b6cf78a8caf7",
       "version_major": 2,
       "version_minor": 0
      },
      "method": "display_data"
     },
     "metadata": {},
     "output_type": "display_data"
    }
   ],
   "source": [
    "SELECT DISTINCT D.Name\n",
    "    FROM Drug D, Use U\n",
    "    WHERE U.Days_use > 2000 AND U.Drug_code = D.Code;"
   ]
  },
  {
   "cell_type": "code",
   "execution_count": null,
   "id": "205c5e12",
   "metadata": {},
   "outputs": [],
   "source": []
  }
 ],
 "metadata": {
  "kernelspec": {
   "display_name": "SQL",
   "language": "SQL",
   "name": "sql"
  },
  "language_info": {
   "codemirror_mode": "sql",
   "file_extension": ".sql",
   "mimetype": "",
   "name": "SQL",
   "nbconverter_exporter": "",
   "version": ""
  }
 },
 "nbformat": 4,
 "nbformat_minor": 5
}
